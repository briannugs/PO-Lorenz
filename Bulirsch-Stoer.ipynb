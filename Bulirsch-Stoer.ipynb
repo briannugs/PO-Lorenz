{
 "cells": [
  {
   "cell_type": "code",
   "execution_count": 1,
   "metadata": {},
   "outputs": [
    {
     "data": {
      "text/plain": [
       "BulirschStoerStep (generic function with 1 method)"
      ]
     },
     "execution_count": 1,
     "metadata": {},
     "output_type": "execute_result"
    }
   ],
   "source": [
    "function modifiedMidpointRule(f,tspan,z0,n)\n",
    "    #[t,z] = modifiedMidpointRule(f,tspan,x0,n)\n",
    "    #\n",
    "    #Approximates the solution to the initial value problem\n",
    "    #by numerical integration with the modified midpoint rule\n",
    "    #\n",
    "    nt = n+1\n",
    "    nz = size(z0,1)\n",
    "    \n",
    "    t0 = tspan[1]\n",
    "    t1 = tspan[2]\n",
    "    h = (t1-t0)/n\n",
    "    t = linspace(tspan1, tspan2, nt)\n",
    "    z = zeros(nz,n)\n",
    "    \n",
    "    #initialize and then run the modified mid-point method\n",
    "    z[:,1] = z0\n",
    "    z[:,2] = z0 + h*f(t0,z0)\n",
    "    for i=3:nt\n",
    "        z[:,i] = z[:,1-2] + 2*h*f(t[i-1],z[:,i-1])\n",
    "    end\n",
    "    \n",
    "    #Refine the final point using the dynamics function \n",
    "    #at the final point\n",
    "    z[:,nt] = 0.5*(z[:,nt] + z[:,nt-1] + h*f(t[nt],z[:,nt]))\n",
    "    \n",
    "    t,z\n",
    "end\n",
    "function BulirschStoerStep(f, tspan, z0, tol)\n",
    "    #[zF, info] = BulirschStoerStep(f,tspan,z0,tol)\n",
    "    #\n",
    "    #Computes a single step using Bulirsch Stoer Method\n",
    "    #\n",
    "    \n",
    "    #Set an upper limit ont he number of mesh refinements\n",
    "    #in the sequence\n",
    "    nRefineMax = 8\n",
    "    \n",
    "    #Simple Logistics and Memory allocation\n",
    "    n = 2*(1:nRefineMax)\n",
    "    nz = size(z0,1)\n",
    "    if length(tol)==1\n",
    "        tol = tol*ones(size(z0))\n",
    "    end\n",
    "    T = zeros(nz,nRefineMax,nRefineMax) #Extrapolation table\n",
    "    E = zeros(nz,nRefineMax) #Error estimate table\n",
    "    \n",
    "    #assume we fail to meet tolerance\n",
    "    info.exit = \"maxRefine\"\n",
    "    for j=1:nRefineMax #loop over the sequence of improving meshs\n",
    "        \n",
    "        #compute the estimate of the solution on the current path\n",
    "        z = modifiedMidpointRule(f,tspan,z0,n[j])\n",
    "        T[:,j,1] = z[:,end]\n",
    "        \n",
    "        if j>1\n",
    "            \n",
    "            #Compute the extrapolation table series\n",
    "            for k=2:j\n",
    "                num = T(:,j,k-1) - T(:,j-1,k-1)\n",
    "                den = (n(j)/(n(j-k+1)))^2 - 1\n",
    "                T[:,j,k] = T[:,j,k-1] + num/den\n",
    "            end\n",
    "            \n",
    "            #Compute the error estimates:\n",
    "            E[:,j] = abs(T[:,j,j-1] - T[:,j,j])\n",
    "            \n",
    "            #Check convergence\n",
    "            if all(E[:,j]<tol)\n",
    "                #research IJulia field access!!!\n",
    "                info.exit = \"converged\"\n",
    "                break\n",
    "            end\n",
    "        end\n",
    "    end\n",
    "    \n",
    "    #Other useful things\n",
    "    info.error = E[:,j]\n",
    "    info.nFunEval = sum(n[1:j])\n",
    "    info.nRefine = j\n",
    "    \n",
    "    #Return the Estimate of the solution\n",
    "    zF = T(:,j,j)\n",
    "    \n",
    "    zF,info\n",
    "end"
   ]
  },
  {
   "cell_type": "code",
   "execution_count": 2,
   "metadata": {},
   "outputs": [
    {
     "data": {
      "text/plain": [
       "BulirschStoer (generic function with 1 method)"
      ]
     },
     "execution_count": 2,
     "metadata": {},
     "output_type": "execute_result"
    }
   ],
   "source": [
    "function BulirschStoer(f,t,z0,tol)\n",
    "    #[z,info] = BulirschStoer(f,t,z0,tol)\n",
    "    #\n",
    "    #Solves an IVP using the BulirschStoer method This method is \n",
    "    #ideal for high-accuracy solutions to smooth IVP\n",
    "    #\n",
    "    #Computes z(t) such that dz/dt = f(t,z) starting from the \n",
    "    #initial state z0. The sol at the grid points will be \n",
    "    #accurate within tol\n",
    "    #\n",
    "    #If the provided grid is insufficient, this function will\n",
    "    #automatically introduce intermediate grid points to acheive\n",
    "    #required accuracy\n",
    "    #\n",
    "    \n",
    "    #if a step fails how many substeps should be created in its\n",
    "    #place?\n",
    "    nStepRefine = 3\n",
    "    \n",
    "    #Logistics and memory allocation:\n",
    "    t = copy(t)\n",
    "    z0 = copy(z0)\n",
    "    tol = copy(tol)\n",
    "    nt = length(t)\n",
    "    nz = size(z0,1)\n",
    "    z = zeros(nz,nt)\n",
    "    z[:,1] = z0\n",
    "    info.error = zeros(size(z))\n",
    "    info.nFunEval = zeros(1,nt)\n",
    "    \n",
    "    #March forward in time from grid point to grid point\n",
    "    for i=2:nt\n",
    "        \n",
    "        tspan = [t[i-1], t[i]]\n",
    "        zF,stepInfo = BulirschStoerStep(f,tspan,z(:,i-1),tol)\n",
    "        \n",
    "        if stepInfo.exit==\"converged\"#successful step\n",
    "            z[:,i] = zF\n",
    "            info.error[:,i] = stepInfo.error\n",
    "            info.nFunEval[i] = stepInfo.nFunEval\n",
    "            \n",
    "        else\n",
    "            time = linspace(tspan[1],tspan[2],nStepRefine+1)\n",
    "            zTmp,infoTmp = BulirschStoer(f,time,z[:,i-1],tol)\n",
    "            z[:,i] = zTmp[:,end]\n",
    "            info.error[:,i] = infoTmp.error[:,end]\n",
    "            info.nFunEval[i] = sum(infoTmp.nFunEval)\n",
    "            \n",
    "        end\n",
    "    end\n",
    "    z,info\n",
    "end\n",
    "            "
   ]
  },
  {
   "cell_type": "code",
   "execution_count": 5,
   "metadata": {},
   "outputs": [
    {
     "ename": "LoadError",
     "evalue": "\u001b[91mtype #info has no field error\u001b[39m",
     "output_type": "error",
     "traceback": [
      "\u001b[91mtype #info has no field error\u001b[39m",
      "",
      "Stacktrace:",
      " [1] \u001b[1mBulirschStoer\u001b[22m\u001b[22m\u001b[1m(\u001b[22m\u001b[22m::Function, ::Array{Int64,1}, ::Array{Int64,1}, ::Float64\u001b[1m)\u001b[22m\u001b[22m at \u001b[1m./In[2]:28\u001b[22m\u001b[22m"
     ]
    }
   ],
   "source": [
    "t = [1,6]\n",
    "z0 = [1,1]\n",
    "tol = 1e-8\n",
    "z,info = BulirschStoer(f,t,z0,tol)"
   ]
  },
  {
   "cell_type": "code",
   "execution_count": 4,
   "metadata": {},
   "outputs": [
    {
     "data": {
      "text/plain": [
       "f (generic function with 1 method)"
      ]
     },
     "execution_count": 4,
     "metadata": {},
     "output_type": "execute_result"
    }
   ],
   "source": [
    "function f(t,x)\n",
    "    [x[1]^2+x[2]^2-1; x[2]-x[1]]\n",
    "end"
   ]
  },
  {
   "cell_type": "code",
   "execution_count": 19,
   "metadata": {},
   "outputs": [
    {
     "ename": "LoadError",
     "evalue": "\u001b[91mtype Foo is immutable\u001b[39m",
     "output_type": "error",
     "traceback": [
      "\u001b[91mtype Foo is immutable\u001b[39m",
      ""
     ]
    }
   ],
   "source": [
    "struct Foo\n",
    "    bar\n",
    "    baz\n",
    "end\n",
    "foo = Foo(\"converged\",2)\n",
    "foo.bar = \"diverged\""
   ]
  },
  {
   "cell_type": "code",
   "execution_count": 27,
   "metadata": {},
   "outputs": [
    {
     "data": {
      "text/plain": [
       "3×3 Array{Float64,2}:\n",
       " 1.0  1.0  1.0\n",
       " 1.0  1.0  1.0\n",
       " 1.0  1.0  1.0"
      ]
     },
     "execution_count": 27,
     "metadata": {},
     "output_type": "execute_result"
    }
   ],
   "source": [
    "x0 = [1,1,1]\n",
    "kk=[2,2,222]\n",
    "xx=zeros(length(x0),length(kk))\n",
    "gg = ones(size(xx))"
   ]
  },
  {
   "cell_type": "code",
   "execution_count": 12,
   "metadata": {},
   "outputs": [
    {
     "data": {
      "text/plain": [
       "4"
      ]
     },
     "execution_count": 12,
     "metadata": {},
     "output_type": "execute_result"
    }
   ],
   "source": [
    "t = [1,1,1,1]\n",
    "nt = length(t)"
   ]
  },
  {
   "cell_type": "code",
   "execution_count": null,
   "metadata": {
    "collapsed": true
   },
   "outputs": [],
   "source": []
  }
 ],
 "metadata": {
  "kernelspec": {
   "display_name": "Julia 0.6.3",
   "language": "julia",
   "name": "julia-0.6"
  },
  "language_info": {
   "file_extension": ".jl",
   "mimetype": "application/julia",
   "name": "julia",
   "version": "0.6.3"
  }
 },
 "nbformat": 4,
 "nbformat_minor": 2
}
