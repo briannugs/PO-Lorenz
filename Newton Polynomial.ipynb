{
 "cells": [
  {
   "cell_type": "code",
   "execution_count": null,
   "metadata": {},
   "outputs": [],
   "source": [
    "function newtdd(x,y,n)\n",
    "    v = zeros(n,n)\n",
    "    c = zeros(n)\n",
    "        for j = 1:n\n",
    "            v[j,1] = y[j] \n",
    "        end\n",
    "        for i = 2:n \n",
    "            for j = 1:(n+1-i)\n",
    "                v[j,i] = (v[j+1,i-1]-v[j,i-1])/(x[j+i-1]-x[j])\n",
    "            end\n",
    "        end\n",
    "        for i = 1:n\n",
    "            c[i] = v[1,i]\n",
    "        end\n",
    "    c\n",
    "end\n",
    "function nest(d,c,x,b)\n",
    "    y = c.*[d+1]\n",
    "    for i = d:(-1):1\n",
    "       y = y.*(x.-b[i]).+c[i] \n",
    "    end\n",
    "    y\n",
    "end "
   ]
  },
  {
   "cell_type": "code",
   "execution_count": null,
   "metadata": {},
   "outputs": [],
   "source": [
    "x0 = [0 2 3]\n",
    "y0 = [1 2 4]\n",
    "c = newtdd(x0,y0,3)\n",
    "x = 0:0.01:4\n",
    "y = nest(2,c,x,x0)"
   ]
  }
 ],
 "metadata": {
  "kernelspec": {
   "display_name": "Julia 1.0.0",
   "language": "julia",
   "name": "julia-1.0"
  },
  "language_info": {
   "file_extension": ".jl",
   "mimetype": "application/julia",
   "name": "julia",
   "version": "1.0.0"
  }
 },
 "nbformat": 4,
 "nbformat_minor": 2
}
