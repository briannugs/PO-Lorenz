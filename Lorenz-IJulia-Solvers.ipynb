{
 "cells": [
  {
   "cell_type": "code",
   "execution_count": 1,
   "metadata": {},
   "outputs": [
    {
     "data": {
      "text/plain": [
       "retcode: Success\n",
       "Interpolation: specialized 4th order \"free\" interpolation\n",
       "t: 2757-element Array{Float64,1}:\n",
       "  0.0       \n",
       "  0.00416355\n",
       "  0.00719711\n",
       "  0.0114214 \n",
       "  0.0155295 \n",
       "  0.0201575 \n",
       "  0.0248894 \n",
       "  0.0298686 \n",
       "  0.034956  \n",
       "  0.0401667 \n",
       "  0.0454452 \n",
       "  0.0507783 \n",
       "  0.056137  \n",
       "  ⋮         \n",
       " 20.884     \n",
       " 20.897     \n",
       " 20.9099    \n",
       " 20.9224    \n",
       " 20.9343    \n",
       " 20.9457    \n",
       " 20.9565    \n",
       " 20.9669    \n",
       " 20.9768    \n",
       " 20.9864    \n",
       " 20.9956    \n",
       " 21.0       \n",
       "u: 2757-element Array{Array{Float64,1},1}:\n",
       " [-13.7636, -19.5788, 27.0]   \n",
       " [-13.9999, -19.5312, 27.8262]\n",
       " [-14.1643, -19.4665, 28.4317]\n",
       " [-14.381, -19.333, 29.2767]  \n",
       " [-14.5769, -19.1535, 30.0964]\n",
       " [-14.7781, -18.8918, 31.012] \n",
       " [-14.9607, -18.5586, 31.9329]\n",
       " [-15.1255, -18.137, 32.8775] \n",
       " [-15.2625, -17.6326, 33.8083]\n",
       " [-15.368, -17.042, 34.7164]  \n",
       " [-15.437, -16.372, 35.5807]  \n",
       " [-15.4664, -15.6281, 36.388] \n",
       " [-15.4538, -14.8203, 37.1247]\n",
       " ⋮                            \n",
       " [7.75445, 11.1011, 20.4969]  \n",
       " [8.19892, 11.7056, 20.9598]  \n",
       " [8.65835, 12.2844, 21.5325]  \n",
       " [9.11624, 12.8095, 22.1982]  \n",
       " [9.55866, 13.2605, 22.9345]  \n",
       " [9.97761, 13.6273, 23.7221]  \n",
       " [10.3678, 13.9049, 24.5439]  \n",
       " [10.7259, 14.0917, 25.3847]  \n",
       " [11.0493, 14.1883, 26.231]   \n",
       " [11.3364, 14.1969, 27.071]   \n",
       " [11.5861, 14.1207, 27.8942]  \n",
       " [11.6932, 14.0545, 28.2838]  "
      ]
     },
     "execution_count": 1,
     "metadata": {},
     "output_type": "execute_result"
    }
   ],
   "source": [
    "function lorenz(dx,x,p,t)\n",
    "    x = copy(x)\n",
    "    σ = 10\n",
    "    β = 8/3\n",
    "    ρ = 28\n",
    "    dx[1] = σ*(x[2]-x[1])\n",
    "    dx[2] = x[1]*(ρ-x[3])-x[2]\n",
    "    dx[3] = x[1]*x[2]-(β*x[3])\n",
    "end\n",
    "x0 = [-13.763610682134; -19.578751942452; 27.0]\n",
    "tspan = (0.0,21.0)\n",
    "using OrdinaryDiffEq\n",
    "prob = ODEProblem(lorenz,x0,tspan)\n",
    "sol = solve(prob,Tsit5(),reltol=1e-8,abstol=1e-8)\n",
    "#using Plots; plot(sol,vars=(1,2,3))"
   ]
  },
  {
   "cell_type": "code",
   "execution_count": 2,
   "metadata": {},
   "outputs": [
    {
     "data": {
      "text/plain": [
       "g (generic function with 1 method)"
      ]
     },
     "execution_count": 2,
     "metadata": {},
     "output_type": "execute_result"
    }
   ],
   "source": [
    "function g(result,x)\n",
    "    x0 = copy(x)\n",
    "    tspan = (0.0,x0[4])\n",
    "\n",
    "    prob = ODEProblem(lorenz,x0[1:3],tspan)\n",
    "    sol = solve(prob,Tsit5(),reltol=1e-8,abstol=1e-8)\n",
    "    \n",
    "    result = zeros(x0)\n",
    "    result[1:3] = sol[end] - x0[1:3]\n",
    "    result[4] = x0[3] - 27\n",
    "    result\n",
    "end"
   ]
  },
  {
   "cell_type": "code",
   "execution_count": 7,
   "metadata": {},
   "outputs": [
    {
     "data": {
      "text/plain": [
       "dg (generic function with 1 method)"
      ]
     },
     "execution_count": 7,
     "metadata": {},
     "output_type": "execute_result"
    }
   ],
   "source": [
    "function dg(df,x0)\n",
    "    x = copy(x0)\n",
    "    x0 = copy(x0)\n",
    "    fx0 = h(x0)\n",
    "    m = length(fx0)\n",
    "    ϵ = 0.01\n",
    "    df = zeros(m,m)\n",
    "    n = 10\n",
    "    cnt = 0\n",
    "    for Niterations = 1:n\n",
    "        #here the derivative is calculated numerically\n",
    "        for j = 1:m\n",
    "            x_ϵ = copy(x0)\n",
    "            \n",
    "            x_ϵ[j] += ϵ\n",
    "        \n",
    "            fx_ϵ = h(x_ϵ)\n",
    "        \n",
    "            for i = 1:m\n",
    "                df[i,j] = (fx_ϵ[i] - fx0[i])/ϵ\n",
    "            end\n",
    "        end\n",
    "        \n",
    "        #the newton search will be computed here\n",
    "        \n",
    "        Δx = -df\\fx0\n",
    "        \n",
    "        x0 += Δx\n",
    "        \n",
    "        cnt = cnt + 1\n",
    "        \n",
    "        fx0 = h(x0)\n",
    "        @show fx0\n",
    "    end\n",
    "end"
   ]
  },
  {
   "cell_type": "code",
   "execution_count": null,
   "metadata": {},
   "outputs": [
    {
     "name": "stdout",
     "output_type": "stream",
     "text": [
      "fx0 = [Inf, Inf, -Inf, Inf]\n",
      "fx0 = [NaN, NaN, NaN, NaN]\n",
      "fx0 = [NaN, NaN, NaN, NaN]\n",
      "fx0 = [NaN, NaN, NaN, NaN]\n",
      "fx0 = [NaN, NaN, NaN, NaN]\n",
      "fx0 = [NaN, NaN, NaN, NaN]\n",
      "fx0 = [NaN, NaN, NaN, NaN]\n",
      "fx0 = [NaN, NaN, NaN, NaN]\n",
      "fx0 = [NaN, NaN, NaN, NaN]\n",
      "fx0 = [NaN, NaN, NaN, NaN]\n"
     ]
    }
   ],
   "source": [
    "using NLsolve\n",
    "x0 = [-13.763610682134; -19.578751942452; 27; 1.5500]\n",
    "nlsolve(g,dg,x0)"
   ]
  },
  {
   "cell_type": "code",
   "execution_count": null,
   "metadata": {
    "collapsed": true
   },
   "outputs": [],
   "source": []
  }
 ],
 "metadata": {
  "kernelspec": {
   "display_name": "Julia 0.6.1",
   "language": "julia",
   "name": "julia-0.6"
  },
  "language_info": {
   "file_extension": ".jl",
   "mimetype": "application/julia",
   "name": "julia",
   "version": "0.6.1"
  }
 },
 "nbformat": 4,
 "nbformat_minor": 2
}
